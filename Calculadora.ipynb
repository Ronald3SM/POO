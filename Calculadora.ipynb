{
  "nbformat": 4,
  "nbformat_minor": 0,
  "metadata": {
    "colab": {
      "provenance": [],
      "include_colab_link": true
    },
    "kernelspec": {
      "name": "python3",
      "display_name": "Python 3"
    },
    "language_info": {
      "name": "python"
    }
  },
  "cells": [
    {
      "cell_type": "markdown",
      "metadata": {
        "id": "view-in-github",
        "colab_type": "text"
      },
      "source": [
        "<a href=\"https://colab.research.google.com/github/Ronald3SM/POO/blob/P.O.O-2-3/Calculadora.ipynb\" target=\"_parent\"><img src=\"https://colab.research.google.com/assets/colab-badge.svg\" alt=\"Open In Colab\"/></a>"
      ]
    },
    {
      "cell_type": "code",
      "execution_count": 3,
      "metadata": {
        "colab": {
          "base_uri": "https://localhost:8080/"
        },
        "id": "TZ9XqgylA1D9",
        "outputId": "093560c0-b34c-4e24-b3f9-995a51c0e79c"
      },
      "outputs": [
        {
          "output_type": "stream",
          "name": "stdout",
          "text": [
            "[]\n",
            "¿Cual es su nombre?\n",
            "Ronald Mota M \n",
            "Me alegro de conocerte, Ronald Mota M \n"
          ]
        }
      ],
      "source": [
        "numero_decimal = int() # este es el número que queremos convertir a binario\n",
        "\n",
        "modulos = [] # la lista para guardar los módulos\n",
        "\n",
        "while numero_decimal != 0: # mientras el número de entrada sea diferente de cero\n",
        "    # paso 1: dividimos entre 2\n",
        "    modulo = numero_decimal % 2\n",
        "    cociente = numero_decimal // 2\n",
        "    modulos.append(modulo) # guardamos el módulo calculado\n",
        "    numero_decimal = cociente # el cociente pasa a ser el número de entrada\n",
        "\n",
        "print(modulos)\n",
        "print (\"¿Cual es su nombre?\")\n",
        "nombre=input()\n",
        "print(f\"Me alegro de conocerte, {nombre}\")"
      ]
    },
    {
      "cell_type": "code",
      "source": [
        "numero_binario = '1010110'\n",
        "\n",
        "posicion = len(numero_binario) - 1 #posición del primer dígito por la izquierda\n",
        "\n",
        "for digito_string in numero_binario:\n",
        "\tdigito = int(digito_string)\n",
        "\tprint(f'Dígito: {digito}, posición: {posicion}')\n",
        "\tposicion -= 1 # restamos 1 a la posición"
      ],
      "metadata": {
        "colab": {
          "base_uri": "https://localhost:8080/"
        },
        "id": "Hyg-LH2iBidl",
        "outputId": "72bcdc15-e511-4625-fe8b-4964c00b7f5c"
      },
      "execution_count": 4,
      "outputs": [
        {
          "output_type": "stream",
          "name": "stdout",
          "text": [
            "Dígito: 1, posición: 6\n",
            "Dígito: 0, posición: 5\n",
            "Dígito: 1, posición: 4\n",
            "Dígito: 0, posición: 3\n",
            "Dígito: 1, posición: 2\n",
            "Dígito: 1, posición: 1\n",
            "Dígito: 0, posición: 0\n"
          ]
        }
      ]
    },
    {
      "cell_type": "markdown",
      "source": [],
      "metadata": {
        "id": "KaRL_dzeBgzO"
      }
    }
  ]
}